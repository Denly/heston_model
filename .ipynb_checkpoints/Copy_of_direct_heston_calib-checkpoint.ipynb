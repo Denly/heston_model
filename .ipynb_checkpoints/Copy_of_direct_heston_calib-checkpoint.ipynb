{
 "cells": [
  {
   "cell_type": "markdown",
   "metadata": {
    "id": "912a8UUPJ0BP"
   },
   "source": [
    "# Direct Heston Calibration "
   ]
  },
  {
   "cell_type": "markdown",
   "metadata": {
    "id": "vfvtuZEvTjA-"
   },
   "source": [
    "**day count convention**: actual / 365 - calculates the daily interest using a 365 day year and then multiplies that by actual number of days in each time period. Important for calculating the _accrued interest_.\n",
    "https://www.youtube.com/watch?v=KuRoN6ZnA7o\n",
    "\n",
    "**accrued interest**: refers to the amount of interest that has been incurred, as of a specific date, on a loan or other financial obligation but has not yet been paid out.\n",
    "\n",
    "**calendar**: holidays / business days\n",
    "\n",
    "**term structure**: Term structure of interest rates, commonly known as the yield curve, depicts the interest rates of similar quality bonds at different maturities."
   ]
  },
  {
   "cell_type": "markdown",
   "metadata": {
    "id": "WsAs2rodJ0BU"
   },
   "source": [
    "**HestonModelHelper**: https://rkapl123.github.io/QLAnnotatedSource/dd/dc4/class_quant_lib_1_1_heston_model_helper.html#ab1df92f492a78501874b8580fdbeb697\n",
    "\n",
    "**Pricing engines**: https://quantlib-python-docs.readthedocs.io/en/latest/pricing_engines.html\n",
    "**AnalyticHestonEngine**:https://rkapl123.github.io/QLAnnotatedSource/d7/d80/class_quant_lib_1_1_analytic_heston_engine.html#details"
   ]
  },
  {
   "cell_type": "markdown",
   "metadata": {
    "id": "hAAktteQJ0BV"
   },
   "source": [
    "**HestonModel Class Reference:**\n",
    "https://rkapl123.github.io/QLAnnotatedSource/d6/d68/class_quant_lib_1_1_heston_model.html. \n",
    "\n",
    "**HestonProcess:**\n",
    "\n",
    " \\begin{array}{rcl} dS(t, S) &=& \\mu S dt + \\sqrt{v} S dW_1 \\\\ dv(t, S) &=& \\kappa (\\theta - v) dt + \\sigma \\sqrt{v} dW_2 \\\\ dW_1 dW_2 &=& \\rho dt \\end{array} \n"
   ]
  },
  {
   "cell_type": "markdown",
   "metadata": {
    "id": "4HOPpKoKJ0BV"
   },
   "source": [
    "'Solvers such as Levenberg-Marquardt find local minimas and are very sensitive to the initial conditions. Depending on the starting conditions for your solver, you could end up with a good set of parameters with good convergence or not so good set of parameters.'\n",
    "\n",
    "### LOCAL SOLVERS\n",
    "\n",
    "**QLLM**: QuantLib Levenberg-Marquardt Solver https://rkapl123.github.io/QLAnnotatedSource/dd/d57/class_quant_lib_1_1_levenberg_marquardt.html\n",
    "\n",
    "**SciLM**: Scipy Levenberg-Marquardt Solver\n",
    "https://docs.scipy.org/doc/scipy/reference/optimize.root-lm.html\n",
    "\n",
    "**LS**: Least Squares Method\n",
    "https://docs.scipy.org/doc/scipy/reference/generated/scipy.optimize.least_squares.html\n",
    "\n",
    "### GLOBAL SOLVERS\n",
    "\n",
    "**DE**: Differential Evolution\n",
    "https://docs.scipy.org/doc/scipy/reference/generated/scipy.optimize.differential_evolution.html\n",
    "\n",
    "**BHA**: Basin Hopping Algorithm\n",
    "https://docs.scipy.org/doc/scipy/reference/generated/scipy.optimize.basinhopping.html"
   ]
  },
  {
   "cell_type": "code",
   "execution_count": 1,
   "metadata": {
    "colab": {
     "base_uri": "https://localhost:8080/",
     "height": 368
    },
    "id": "Af_MzqnGJ0BW",
    "outputId": "9059cbfd-ff1e-4598-db35-273a09e95ff9"
   },
   "outputs": [],
   "source": [
    "import QuantLib as ql\n",
    "from math import pow, sqrt , log\n",
    "import numpy as np\n",
    "from scipy.optimize import root, least_squares, differential_evolution, basinhopping\n",
    "from matplotlib import pyplot as plt,cm\n",
    "from pandas import DataFrame\n",
    "from sklearn.linear_model import LinearRegression, Ridge,Lasso"
   ]
  },
  {
   "cell_type": "code",
   "execution_count": 2,
   "metadata": {
    "id": "FDZASAH2TjA-"
   },
   "outputs": [],
   "source": [
    "day_count = ql.Actual365Fixed()   #day count convention\n",
    "calendar = ql.UnitedStates()\n",
    "calculation_date = ql.Date(6, 11, 2015)\n",
    "\n",
    "spot = 659.37  #S_0\n",
    "ql.Settings.instance().evaluationDate = calculation_date          \n",
    "\n",
    "risk_free_rate = 0.01\n",
    "dividend_rate = 0.0\n",
    "\n",
    "##Creating term structures##\n",
    "yield_ts = ql.YieldTermStructureHandle(                            #Flat interest-rate curve\n",
    "    ql.FlatForward(calculation_date, risk_free_rate, day_count))\n",
    "dividend_ts = ql.YieldTermStructureHandle(\n",
    "    ql.FlatForward(calculation_date, dividend_rate, day_count))"
   ]
  },
  {
   "cell_type": "markdown",
   "metadata": {
    "id": "gL82p48CTjBB"
   },
   "source": [
    "'Following is a sample grid of volatilities for different expiration and strikes.'"
   ]
  },
  {
   "cell_type": "code",
   "execution_count": 3,
   "metadata": {
    "id": "VBBrsFg4TjBC"
   },
   "outputs": [],
   "source": [
    "expiration_dates = [ql.Date(6,12,2015), ql.Date(6,1,2016), ql.Date(6,2,2016),   #maturities from 1 month to 2 years\n",
    "                    ql.Date(6,3,2016), ql.Date(6,4,2016), ql.Date(6,5,2016), \n",
    "                    ql.Date(6,6,2016), ql.Date(6,7,2016), ql.Date(6,8,2016),\n",
    "                    ql.Date(6,9,2016), ql.Date(6,10,2016), ql.Date(6,11,2016), \n",
    "                    ql.Date(6,12,2016), ql.Date(6,1,2017), ql.Date(6,2,2017),\n",
    "                    ql.Date(6,3,2017), ql.Date(6,4,2017), ql.Date(6,5,2017), \n",
    "                    ql.Date(6,6,2017), ql.Date(6,7,2017), ql.Date(6,8,2017),\n",
    "                    ql.Date(6,9,2017), ql.Date(6,10,2017), ql.Date(6,11,2017)]\n",
    "\n",
    "ttm=[ql.Period(m-calculation_date, ql.Days) for m in expiration_dates]\n",
    "\n",
    "\n",
    "strikes = [527.50, 560.46, 593.43, 626.40, 659.37, 692.34, 725.31, 758.28]\n",
    "data = [\n",
    "[0.37819, 0.34177, 0.30394, 0.27832, 0.26453, 0.25916, 0.25941, 0.26127],\n",
    "[0.3445, 0.31769, 0.2933, 0.27614, 0.26575, 0.25729, 0.25228, 0.25202],\n",
    "[0.37419, 0.35372, 0.33729, 0.32492, 0.31601, 0.30883, 0.30036, 0.29568],\n",
    "[0.37498, 0.35847, 0.34475, 0.33399, 0.32715, 0.31943, 0.31098, 0.30506],\n",
    "[0.35941, 0.34516, 0.33296, 0.32275, 0.31867, 0.30969, 0.30239, 0.29631],\n",
    "[0.35521, 0.34242, 0.33154, 0.3219, 0.31948, 0.31096, 0.30424, 0.2984],\n",
    "[0.35442, 0.34267, 0.33288, 0.32374, 0.32245, 0.31474, 0.30838, 0.30283],\n",
    "[0.35384, 0.34286, 0.33386, 0.32507, 0.3246, 0.31745, 0.31135, 0.306],\n",
    "[0.35338, 0.343, 0.33464, 0.32614, 0.3263, 0.31961, 0.31371, 0.30852],\n",
    "[0.35301, 0.34312, 0.33526, 0.32698, 0.32766, 0.32132, 0.31558, 0.31052],\n",
    "[0.35272, 0.34322, 0.33574, 0.32765, 0.32873, 0.32267, 0.31705, 0.31209],\n",
    "[0.35246, 0.3433, 0.33617, 0.32822, 0.32965, 0.32383, 0.31831, 0.31344],\n",
    "[0.35226, 0.34336, 0.33651, 0.32869, 0.3304, 0.32477, 0.31934, 0.31453],\n",
    "[0.35207, 0.34342, 0.33681, 0.32911, 0.33106, 0.32561, 0.32025, 0.3155],\n",
    "[0.35171, 0.34327, 0.33679, 0.32931, 0.3319, 0.32665, 0.32139, 0.31675],\n",
    "[0.35128, 0.343, 0.33658, 0.32937, 0.33276, 0.32769, 0.32255, 0.31802],\n",
    "[0.35086, 0.34274, 0.33637, 0.32943, 0.3336, 0.32872, 0.32368, 0.31927],\n",
    "[0.35049, 0.34252, 0.33618, 0.32948, 0.33432, 0.32959, 0.32465, 0.32034],\n",
    "[0.35016, 0.34231, 0.33602, 0.32953, 0.33498, 0.3304, 0.32554, 0.32132],\n",
    "[0.34986, 0.34213, 0.33587, 0.32957, 0.33556, 0.3311, 0.32631, 0.32217],\n",
    "[0.34959, 0.34196, 0.33573, 0.32961, 0.3361, 0.33176, 0.32704, 0.32296],\n",
    "[0.34934, 0.34181, 0.33561, 0.32964, 0.33658, 0.33235, 0.32769, 0.32368],\n",
    "[0.34912, 0.34167, 0.3355, 0.32967, 0.33701, 0.33288, 0.32827, 0.32432],\n",
    "[0.34891, 0.34154, 0.33539, 0.3297, 0.33742, 0.33337, 0.32881, 0.32492]]"
   ]
  },
  {
   "cell_type": "code",
   "execution_count": 4,
   "metadata": {
    "id": "XfuORzS8J0Ba"
   },
   "outputs": [],
   "source": [
    "class Heston(ql.HestonModel):\n",
    "    def __init__(self, init_params=(0.02,0.2,0.5,0.1,0.01)):\n",
    "        self.init_params=init_params\n",
    "        v0, kappa, theta, sigma, rho = self.init_params\n",
    "        process=ql.HestonProcess(yield_ts, dividend_ts, ql.QuoteHandle(ql.SimpleQuote(spot)), v0, kappa, theta, sigma, rho)\n",
    "        super().__init__(process)\n",
    "        self.engine = ql.AnalyticHestonEngine(self)\n",
    "        self.vol_surf = ql.HestonBlackVolSurface(ql.HestonModelHandle(self), self.engine.Gatheral)\n",
    "        \n",
    "        self.build_helpers()\n",
    "        \n",
    "        \n",
    "    def build_helpers(self, mat=ttm, K=strikes, vol=data):\n",
    "        temp=[]\n",
    "        for m,v in zip(mat,vol):\n",
    "            for i,s in enumerate(K):\n",
    "                temp.append( ql.HestonModelHelper(m, calendar, spot, s, ql.QuoteHandle(ql.SimpleQuote(v[i])), \n",
    "                                                  yield_ts, dividend_ts)  )\n",
    "        for x in temp: x.setPricingEngine(self.engine)\n",
    "        self.helpers=temp\n",
    "        self.loss= [x.calibrationError() for x in self.helpers]\n",
    "    \n",
    "    def f_cost(self, params, norm=False):\n",
    "        self.setParams( ql.Array(list(params)) )\n",
    "        self.build_helpers()\n",
    "        if norm == True:\n",
    "            self.loss = np.sqrt(np.sum(self.loss))\n",
    "        return self.loss\n",
    "    \n",
    "h = Heston()"
   ]
  },
  {
   "cell_type": "code",
   "execution_count": 5,
   "metadata": {
    "id": "yhCHRiojTjBT"
   },
   "outputs": [],
   "source": [
    "class methods:\n",
    "    def qllm(self):    \n",
    "        self.calibrate(self.helpers,ql.LevenbergMarquardt(1e-8, 1e-8, 1e-8),ql.EndCriteria(500, 300, 1.0e-8,1.0e-8, 1.0e-8))\n",
    "    def scilm(self):    \n",
    "        root(self.f_cost, self.init_params, method='lm')\n",
    "    def ls(self):\n",
    "        least_squares(self.f_cost, self.init_params)\n",
    "    def de(self):\n",
    "        bounds = [(0,1),(0.01,15), (0.01,1.), (-1,1), (0,1.0) ]\n",
    "        differential_evolution(self.f_cost, bounds, args=(True,), maxiter=100)\n",
    "    def bha(self):\n",
    "        bounds = [(0,1),(0.01,15), (0.01,1.), (-1,1), (0,1.0) ]\n",
    "        minimizer_kwargs = {\"method\": \"L-BFGS-B\", \"bounds\": bounds, \"args\":(True,) }\n",
    "        basinhopping(self.f_cost ,self.init_params, niter=5, minimizer_kwargs=minimizer_kwargs, \n",
    "                            stepsize=0.005, interval=10)\n",
    "    \n",
    "method_dict = { 'QLLM': methods.qllm ,'SciLM': methods.scilm,'LS': methods.ls, 'DE': methods.de, 'BHA': methods.bha} "
   ]
  },
  {
   "cell_type": "code",
   "execution_count": null,
   "metadata": {
    "id": "ZAliY50NTjBV",
    "scrolled": false
   },
   "outputs": [
    {
     "name": "stdout",
     "output_type": "stream",
     "text": [
      "CPU times: user 2.02 s, sys: 15.5 ms, total: 2.03 s\n",
      "Wall time: 2.04 s\n",
      "CPU times: user 2.13 s, sys: 12.7 ms, total: 2.14 s\n",
      "Wall time: 2.16 s\n",
      "CPU times: user 13.8 s, sys: 136 ms, total: 14 s\n",
      "Wall time: 3.66 s\n",
      "CPU times: user 1min 7s, sys: 163 ms, total: 1min 8s\n",
      "Wall time: 1min 8s\n"
     ]
    }
   ],
   "source": [
    "##calibrate model parameters with each method and calculate its error##\n",
    "summary=[]\n",
    "for i in method_dict:\n",
    "    %time method_dict[i](h)\n",
    "    h.build_helpers()\n",
    "    summary.append([i, sum(h.loss)*100/len(h.loss)] + list(h.params()))\n",
    "    \n",
    "##Create table##\n",
    "DataFrame(\n",
    "    summary, columns=[\"Name\", \"Avg Rel Error (%)\",\"$\\theta$\", \"$\\kappa$\", \"$\\sigma$\", \"$\\rho$\", \"$v_0$\"],\n",
    "    index=['']*len(summary)     )"
   ]
  },
  {
   "cell_type": "markdown",
   "metadata": {
    "id": "-5JVMTjaTjBY"
   },
   "source": [
    "# PLOTS"
   ]
  },
  {
   "cell_type": "code",
   "execution_count": null,
   "metadata": {
    "id": "n2UjQbjfJ0Bf"
   },
   "outputs": [],
   "source": [
    "method_dict['QLLM'](h)\n",
    "X, Y = np.meshgrid(strikes, [ql.Period(m-calculation_date, ql.Days).length() for m in expiration_dates])\n",
    "Z=np.array([h.vol_surf.blackVol(m,s) \n",
    "            for m,s in zip(Y.reshape(1,-1)[0]/365, X.reshape(1,-1)[0])]).reshape(len(X),len(X[0]))\n",
    "\n",
    "\n",
    "X_fine,Y_fine = np.meshgrid(np.arange(535., 750., 1),np.arange(0.1, 2, 0.1))\n",
    "Z_fine=np.array([h.vol_surf.blackVol(m,s) \n",
    "            for m,s in zip(Y_fine.reshape(1,-1)[0], X_fine.reshape(1,-1)[0])]).reshape(len(X_fine),len(X_fine[0]))\n",
    "\n",
    "\n",
    "implied_vols = ql.Matrix(len(strikes), len(expiration_dates))\n",
    "for i in range(implied_vols.rows()):\n",
    "    for j in range(implied_vols.columns()):\n",
    "        implied_vols[i][j] = data[j][i]\n",
    "black_var_surface = ql.BlackVarianceSurface(calculation_date, calendar, expiration_dates,\n",
    "                                                strikes, implied_vols, day_count)\n",
    "Z_black=np.array([black_var_surface.blackVol(m,s) \n",
    "            for m,s in zip(Y_fine.reshape(1,-1)[0], X_fine.reshape(1,-1)[0])]).reshape(len(X_fine),len(X_fine[0]))\n",
    "\n"
   ]
  },
  {
   "cell_type": "code",
   "execution_count": null,
   "metadata": {
    "id": "l_p2CUADJ0Bf"
   },
   "outputs": [],
   "source": [
    "%matplotlib notebook\n",
    "fig = plt.figure()\n",
    "fig.set_figheight(8)\n",
    "fig.set_figwidth(9)\n",
    "\n",
    "ax1 = fig.add_subplot(2, 2, 1, projection='3d',xlabel='strikes',ylabel='Maturities in months', zlabel='volatilities',title='Actual')\n",
    "surf1=ax1.plot_surface(X, Y/30, np.array(data), rstride=1, cstride=1, cmap=cm.coolwarm, linewidth=0.1)\n",
    "fig.colorbar(surf1, shrink=0.5, aspect=15)\n",
    "\n",
    "ax2 = fig.add_subplot(2, 2, 2, projection='3d',xlabel='strikes',ylabel='Maturities in months', zlabel='volatilities',title='Heston')\n",
    "surf2 = ax2.plot_surface(X, Y/30, Z, rstride=1, cstride=1, cmap=cm.coolwarm, linewidth=0.1)\n",
    "fig.colorbar(surf2, shrink=0.5, aspect=15)\n",
    "\n",
    "ax3 = fig.add_subplot(2,2,3, projection='3d',xlabel='strikes',ylabel='Maturities in months', zlabel='volatilities',title='Heston_finer')\n",
    "surf3 = ax3.plot_surface(X_fine, Y_fine*365/30, Z_fine, rstride=1, cstride=1, cmap=cm.coolwarm, linewidth=0.1)\n",
    "fig.colorbar(surf2, shrink=0.5, aspect=15)\n",
    "\n",
    "ax4 = fig.add_subplot(2,2,4, projection='3d',xlabel='strikes',ylabel='Maturities in months', zlabel='volatilities',title='Black')\n",
    "surf4 = ax4.plot_surface(X_fine, Y_fine*365/30, Z_black, rstride=1, cstride=1, cmap=cm.coolwarm, linewidth=0.1)\n",
    "fig.colorbar(surf2, shrink=0.5, aspect=15)\n",
    "\n",
    "fig.suptitle('Smiles')\n",
    "plt.tight_layout()\n"
   ]
  }
 ],
 "metadata": {
  "colab": {
   "name": "Copy of direct_heston_calib.ipynb",
   "provenance": []
  },
  "kernelspec": {
   "display_name": "Python 3",
   "language": "python",
   "name": "python3"
  },
  "language_info": {
   "codemirror_mode": {
    "name": "ipython",
    "version": 3
   },
   "file_extension": ".py",
   "mimetype": "text/x-python",
   "name": "python",
   "nbconvert_exporter": "python",
   "pygments_lexer": "ipython3",
   "version": "3.8.5"
  }
 },
 "nbformat": 4,
 "nbformat_minor": 1
}
